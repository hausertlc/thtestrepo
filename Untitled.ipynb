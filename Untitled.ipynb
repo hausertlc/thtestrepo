{
 "cells": [
  {
   "cell_type": "markdown",
   "id": "d0c6a111-68e6-420e-a13f-fe697ff1b007",
   "metadata": {},
   "source": [
    "# My Jupyter Notebook on IBM Watson Studio"
   ]
  },
  {
   "cell_type": "markdown",
   "id": "f81fa24a-3256-43d4-993e-3b29af5e5b69",
   "metadata": {},
   "source": [
    "**Theresa H\n",
    "<br>\n",
    "Data Analyst**"
   ]
  },
  {
   "cell_type": "markdown",
   "id": "b70ae9e2-7b26-4b86-8dcc-3d4347070b40",
   "metadata": {},
   "source": [
    "*I am interested in data science because I enjoy working with data. I want to further my career doing something I enjoy so thsi seemed like a natural choice.*"
   ]
  },
  {
   "cell_type": "markdown",
   "id": "7ac4994c-37f3-400d-b82b-f11638f34a50",
   "metadata": {},
   "source": [
    "### Cell 5 is supposed to display the message \"Hello, reviewer.\" "
   ]
  },
  {
   "cell_type": "code",
   "execution_count": 2,
   "id": "89a6d377-47c7-4461-85ea-fb770a786111",
   "metadata": {},
   "outputs": [
    {
     "name": "stdout",
     "output_type": "stream",
     "text": [
      "Hello,reviewer.\n"
     ]
    }
   ],
   "source": [
    "print(\"Hello,reviewer.\")"
   ]
  },
  {
   "cell_type": "markdown",
   "id": "05350b90-43ec-4180-ba97-09b62b72f7da",
   "metadata": {},
   "source": [
    "Months meditation was tracked:\n",
    "* May\n",
    "* June\n",
    "* July\n",
    "\n",
    "This <a href=\"url\" target=\"https://www.youtube.com/watch?v=ZToicYcHIOU\">video</a>  was used for the meditation.\n",
    "The meditation per week in these months is below:\n",
    "\n",
    "|May| June | July |\n",
    "| ------ | ------ |------ |\n",
    "| 1 | 6 |5 |\n",
    "| 3 | 4 |5 |\n",
    "| 8 | 7 |10 |\n",
    "| 2 | 6 |3 |\n",
    "| 1 | 9 |5 |"
   ]
  },
  {
   "cell_type": "code",
   "execution_count": null,
   "id": "ba3b2998-4e3d-4c80-97e7-ee560f0638ea",
   "metadata": {},
   "outputs": [],
   "source": []
  }
 ],
 "metadata": {
  "kernelspec": {
   "display_name": "Python",
   "language": "python",
   "name": "conda-env-python-py"
  },
  "language_info": {
   "codemirror_mode": {
    "name": "ipython",
    "version": 3
   },
   "file_extension": ".py",
   "mimetype": "text/x-python",
   "name": "python",
   "nbconvert_exporter": "python",
   "pygments_lexer": "ipython3",
   "version": "3.7.12"
  }
 },
 "nbformat": 4,
 "nbformat_minor": 5
}
